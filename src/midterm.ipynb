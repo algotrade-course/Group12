{
 "cells": [
  {
   "cell_type": "markdown",
   "metadata": {},
   "source": [
    "# Group 12 - Strategy Implementation and Backtesting"
   ]
  },
  {
   "cell_type": "markdown",
   "metadata": {},
   "source": [
    "## 0. Import packages"
   ]
  },
  {
   "cell_type": "markdown",
   "metadata": {},
   "source": [
    "If there are any missing packages, you can install them by typing in the code shell:\n",
    "```terminal\n",
    "!pip install <package_name>\n",
    "```\n",
    "or\n",
    "```terminal\n",
    "%pip install <package_name>\n",
    "```"
   ]
  },
  {
   "cell_type": "code",
   "execution_count": null,
   "metadata": {},
   "outputs": [],
   "source": [
    "import pandas as pd\n",
    "import numpy as np\n",
    "import psycopg\n",
    "import json\n",
    "import pprint\n",
    "import mplfinance as mpf\n",
    "\n",
    "from typing import List\n",
    "from matplotlib import pyplot as plt\n",
    "from numpy.testing import assert_almost_equal, assert_equal"
   ]
  },
  {
   "cell_type": "markdown",
   "metadata": {},
   "source": [
    "## 1. Data Preparation\n",
    "### 1.1. Data Importing\n",
    "First, we load the data from `yfinance`:"
   ]
  },
  {
   "cell_type": "code",
   "execution_count": null,
   "metadata": {},
   "outputs": [],
   "source": [
    "# Load data\n",
    "with open('database.json', 'rb') as fb:\n",
    "    db_info = json.load(fb)\n",
    "conn = psycopg.connect(\n",
    "    host=db_info['host'],\n",
    "    port=db_info['port'],\n",
    "    dbname=db_info['database'],\n",
    "    user=db_info['user'],\n",
    "    password=db_info['password']\n",
    ")\n",
    "with psycopg.connect(\n",
    "    host=db_info['host'],\n",
    "    port=db_info['port'],\n",
    "    dbname=db_info['database'],\n",
    "    user=db_info['user'],\n",
    "    password=db_info['password']\n",
    ") as conn:\n",
    "    # Open a cursor to perform database operations\n",
    "    with conn.cursor() as data:\n",
    "        \n",
    "        # Execute a query\n",
    "        data.execute(\"\"\"\n",
    "            SELECT m.datetime, m.tickersymbol, m.price\n",
    "            FROM \"quote\".\"matched\" m\n",
    "            WHERE m.tickersymbol = 'VN30F2301'\n",
    "            AND m.datetime > '2022-12-31 21:00:00'\n",
    "        \"\"\")\n",
    "\n",
    "        # Use fetchall() to get all the data of the query.\n",
    "        # Note: fetchall() can be costly and inefficient.\n",
    "        # Other efficient ways have been discussed extensively on the Internet. Or you can ask ChatGPT ;)\n",
    "        dataset = data.fetchall()\n",
    "\n",
    "        # Print the total number of ticks of that day\n",
    "        print(f'Total number of tick: {len(dataset)}')\n",
    "\n",
    "        # Pretty print the first five ticks"
   ]
  },
  {
   "cell_type": "code",
   "execution_count": null,
   "metadata": {},
   "outputs": [],
   "source": [
    "# Devide data into in-sample and out-sample\n",
    "in_sample_dataset = dataset[:int(len(dataset)*0.8)]\n",
    "out_sample_dataset = dataset[int(len(dataset)*0.8):]\n",
    "\n",
    "# Chuyển dữ liệu sang DataFrame của in_sample_data\n",
    "in_sample_candle = pd.DataFrame(in_sample_dataset, columns=['datetime', 'tickersymbol', 'price'])\n",
    "in_sample_candle['price'] = pd.to_numeric(in_sample_candle['price'], errors='coerce')\n",
    "print(in_sample_candle['price'].dtype)\n",
    "\n",
    "# Chuyển đổi cột datetime về kiểu datetime\n",
    "in_sample_candle['datetime'] = pd.to_datetime(in_sample_candle['datetime'])\n",
    "in_sample_candle.set_index('datetime', inplace=True)\n",
    "# sort by datetime\n",
    "in_sample_candle.sort_index(inplace=True)\n",
    "\n",
    "print(in_sample_candle[:50])\n",
    "\n",
    "# Resample dữ liệu theo khung 1 giờ (1h)\n",
    "in_sample_candle_ohlc = in_sample_candle['price'].resample('1t').ohlc()\n",
    "\n",
    "# Vẽ biểu đồ nến\n",
    "mpf.plot(in_sample_candle_ohlc[5:100], type='candle', style='charles',\n",
    "        title=\" In sample data VN30F2311 Candlestick Chart (1h)\", ylabel=\"Price\")\n",
    "\n",
    "# Chuyển dữ liệu sang DataFrame của in_sample_data\n",
    "out_sample_candle = pd.DataFrame(out_sample_dataset, columns=['datetime', 'tickersymbol', 'price'])\n",
    "out_sample_candle['price'] = pd.to_numeric(out_sample_candle['price'], errors='coerce')\n",
    "print(out_sample_candle['price'].dtype)\n",
    "# Chuyển đổi cột datetime về kiểu datetime\n",
    "out_sample_candle['datetime'] = pd.to_datetime(out_sample_candle['datetime'])\n",
    "out_sample_candle.set_index('datetime', inplace=True)\n",
    "\n",
    "# Resample dữ liệu theo khung 1 giờ (1h)\n",
    "out_sample_candle_ohlc = out_sample_candle['price'].resample('5t').ohlc()\n",
    "\n",
    "# Vẽ biểu đồ nến\n",
    "# mpf.plot(out_sample_candle_ohlc[-50:], type='candle', volume=True, style='charles',\n",
    "#         title=\" Out sample data VN30F2311 Candlestick Chart (1h)\", ylabel=\"Price\", ylabel_lower=\"Volume\")\n",
    "\n",
    "print(len(in_sample_candle_ohlc), len(out_sample_candle_ohlc))\n",
    "print(in_sample_candle_ohlc[0:50])\n",
    "print(out_sample_candle_ohlc[-10:])"
   ]
  },
  {
   "cell_type": "markdown",
   "metadata": {},
   "source": [
    "## 2. Trading Algorithm & Backtesting"
   ]
  },
  {
   "cell_type": "code",
   "execution_count": null,
   "metadata": {},
   "outputs": [],
   "source": [
    "import pandas as pd\n",
    "import numpy as np\n",
    "# Calculate SMA(50) on the 'close' column.\n",
    "# Missing candles are simply not in df – the rolling mean is computed over the nearest 50 available candles.\n",
    "df = in_sample_candle_ohlc.copy()\n",
    "df['SMA50'] = df['close'].rolling(window=10, min_periods=10).mean()\n",
    "print(df[50:100])\n",
    "position = None  # Will hold a dict with keys: type, entry_price, entry_time\n",
    "trades = []      # List of dicts for each trade\n",
    "def open_position(position_type, entry_price, entry_time):\n",
    "    global position\n",
    "    position = {\n",
    "        'type': position_type,  # 'long' or 'short'\n",
    "        'entry_price': entry_price,\n",
    "        'entry_time': entry_time\n",
    "    }\n",
    "    \n",
    "def close_position(exit_price, exit_time):\n",
    "    global position, trades\n",
    "    if position is None:\n",
    "        return\n",
    "    trade = position.copy()\n",
    "    trade['exit_price'] = exit_price\n",
    "    trade['exit_time'] = exit_time\n",
    "    if position['type'] == 'long':\n",
    "        trade['profit'] = exit_price - position['entry_price']\n",
    "    else:  # For a short position\n",
    "        trade['profit'] = position['entry_price'] - exit_price\n",
    "    trades.append(trade)\n",
    "    print(f\"Closed {position['type']} position at {exit_price} on {exit_time} with profit {trade['profit']}\")\n",
    "    position = None"
   ]
  },
  {
   "cell_type": "code",
   "execution_count": null,
   "metadata": {},
   "outputs": [],
   "source": [
    "for i in range(0, len(df)):\n",
    "    current_candle = df.iloc[i]\n",
    "    current_time = df.index[i]\n",
    "    \n",
    "    # --- Overnight position closing ---\n",
    "    # If the current candle's date is different from the previous candle's date,\n",
    "    # close any open position at the previous candle's close.\n",
    "    if i > 0:\n",
    "        prev_time = df.index[i-1]\n",
    "        if current_time.date() != prev_time.date() and position is not None:\n",
    "            close_position(df.iloc[i-1]['close'], prev_time)\n",
    "    \n",
    "    # --- Check for exit conditions if a position is open ---\n",
    "    if position is not None:\n",
    "        if position['type'] == 'long':\n",
    "            unrealized_profit = current_candle['close'] - position['entry_price']\n",
    "        else:  # For a short position:\n",
    "            unrealized_profit = position['entry_price'] - current_candle['close']\n",
    "        # Exit if take profit (>= 3 points) or stop loss (<= -1 point) is reached.\n",
    "        if unrealized_profit >= 3 or unrealized_profit <= -1:\n",
    "            close_position(current_candle['close'], current_time)\n",
    "            continue  # Skip further processing for this candle\n",
    "    \n",
    "    # --- If no position, check for an entry signal ---\n",
    "    if position is None and i >= 3:\n",
    "        # First, ensure that the three candles before the current one are consecutive (5 mins apart).\n",
    "        consecutive = (\n",
    "            (current_time - df.index[i-1] == pd.Timedelta(minutes=1)) and \n",
    "            (df.index[i-1] - df.index[i-2] == pd.Timedelta(minutes=1)) and\n",
    "            (df.index[i-2] - df.index[i-3] == pd.Timedelta(minutes=1))\n",
    "        )\n",
    "        if not consecutive:\n",
    "            # If the candles are not consecutive, skip the pattern check.\n",
    "            continue\n",
    "        \n",
    "        # Get the previous three candles\n",
    "        prev_candles = df.iloc[i-3:i]\n",
    "        # Define bearish (red) candle as close < open, bullish (green) as close > open.\n",
    "        bearish_pattern = all(row['close'] < row['open'] for _, row in prev_candles.iterrows())\n",
    "        bullish_pattern = all(row['close'] > row['open'] for _, row in prev_candles.iterrows())\n",
    "        # Ensure SMA50 for current candle is not NaN.\n",
    "        if np.isnan(current_candle['SMA50']):\n",
    "            continue\n",
    "        \n",
    "        # Entry Signal for Buy (Long):\n",
    "        # If previous 3 candles are bearish, and the previous candle’s high is below current candle’s close,\n",
    "        # and the current candle’s close is above the SMA50.\n",
    "        if bearish_pattern and (df.iloc[i-1]['high'] < current_candle['close']) and (current_candle['SMA50'] < current_candle['close']):\n",
    "            open_position('long', current_candle['close'], current_time)\n",
    "        \n",
    "        # Entry Signal for Sell (Short):\n",
    "        # If previous 3 candles are bullish, and the previous candle’s low is above current candle’s close,\n",
    "        # and the current candle’s close is below the SMA50.\n",
    "        elif bullish_pattern and (df.iloc[i-1]['low'] > current_candle['close']) and (current_candle['SMA50'] > current_candle['close']):\n",
    "            open_position('short', current_candle['close'], current_time)\n",
    "\n",
    "# --- End of backtest loop ---\n",
    "# If any position remains open at the end of the data, close it using the last candle's close.\n",
    "if position is not None:\n",
    "    close_position(df.iloc[-1]['close'], df.index[-1])\n",
    "\n",
    "# =============================================================================\n",
    "# Trade Summary\n",
    "# =============================================================================\n",
    "trades_df = pd.DataFrame(trades)\n",
    "print(\"\\nBacktesting completed. Trade summary:\")\n",
    "print(trades_df)\n",
    "total_profit = trades_df['profit'].sum()\n",
    "print(f\"Total profit: {total_profit:.2f}\")"
   ]
  },
  {
   "cell_type": "markdown",
   "metadata": {},
   "source": [
    "## 4. Evaluation"
   ]
  },
  {
   "cell_type": "markdown",
   "metadata": {},
   "source": [
    "### 4.1 Asset Over Time\n",
    "Asset over time is a simple and intuitive way to show if the algorithm works. If your asset increased, you're doing something right and vice versa. Just simply record the asset through the period of trading, here is the period of backtesting and plot it."
   ]
  },
  {
   "cell_type": "code",
   "execution_count": 23,
   "metadata": {},
   "outputs": [
    {
     "data": {
      "image/png": "[encoded data removed]",
      "text/plain": [
       "<Figure size 1200x600 with 1 Axes>"
      ]
     },
     "metadata": {},
     "output_type": "display_data"
    }
   ],
   "source": [
    "# Set initial capital\n",
    "initial_capital = 10000  # Example starting balance\n",
    "\n",
    "# Convert trades into a DataFrame\n",
    "trades_df = pd.DataFrame(trades)\n",
    "\n",
    "# Compute cumulative profit\n",
    "trades_df[\"capital_over_time\"] = initial_capital + trades_df[\"profit\"].cumsum()\n",
    "\n",
    "# Plot asset value over time\n",
    "plt.figure(figsize=(12, 6))\n",
    "plt.plot(trades_df[\"exit_time\"], trades_df[\"capital_over_time\"], label=\"Equity Curve\", color=\"b\")\n",
    "plt.axhline(y=initial_capital, color=\"r\", linestyle=\"--\", label=\"Initial Capital\")\n",
    "plt.xlabel(\"Date\")\n",
    "plt.ylabel(\"Portfolio Value\")\n",
    "plt.title(\"Asset Value Over Time (Equity Curve)\")\n",
    "plt.legend()\n",
    "plt.grid()\n",
    "plt.show()"
   ]
  },
  {
   "cell_type": "markdown",
   "metadata": {},
   "source": [
    "### 4.2 Holding Period Return\n",
    "\n",
    "We can also calculate the rate of return during the considered period"
   ]
  },
  {
   "cell_type": "code",
   "execution_count": 24,
   "metadata": {},
   "outputs": [
    {
     "name": "stdout",
     "output_type": "stream",
     "text": [
      "Holding Period Return (HPR): 0.29%\n"
     ]
    }
   ],
   "source": [
    "final_capital = initial_capital + trades_df[\"profit\"].sum()\n",
    "\n",
    "# Compute Holding Period Return\n",
    "HPR = ((final_capital - initial_capital) / initial_capital) * 100\n",
    "\n",
    "print(f\"Holding Period Return (HPR): {HPR:.2f}%\")"
   ]
  },
  {
   "cell_type": "markdown",
   "metadata": {},
   "source": [
    "### 4.3 Maximum Drawdown (MDD)\n",
    "\n",
    "Maximum Drawdown (MDD) is also a great tool for assessing the maximum theoretical risk. We can calculate the MDD below."
   ]
  },
  {
   "cell_type": "code",
   "execution_count": 26,
   "metadata": {},
   "outputs": [
    {
     "name": "stdout",
     "output_type": "stream",
     "text": [
      "Maximum Drawdown (MDD): 0.06%\n"
     ]
    }
   ],
   "source": [
    "# Compute capital over time\n",
    "trades_df[\"capital_over_time\"] = initial_capital + trades_df[\"profit\"].cumsum()\n",
    "\n",
    "# Calculate the running maximum of the portfolio\n",
    "running_max = trades_df[\"capital_over_time\"].cummax()\n",
    "\n",
    "# Compute Drawdown (Difference from peak)\n",
    "drawdown = running_max - trades_df[\"capital_over_time\"]\n",
    "\n",
    "# Compute Maximum Drawdown (MDD)\n",
    "max_drawdown = drawdown.max()\n",
    "\n",
    "# Convert to percentage\n",
    "MDD_percentage = (max_drawdown / running_max.max()) * 100\n",
    "\n",
    "print(f\"Maximum Drawdown (MDD): {MDD_percentage:.2f}%\")"
   ]
  },
  {
   "cell_type": "markdown",
   "metadata": {},
   "source": [
    "### 4.4 Sharpe ratio\n",
    "\n",
    "We have shown that the `Sharpe Ratio` is also a great tool to evaluate the compromising between reward and risk. We show the `Sharpe Ratio` of the SMA Trading algorithm in this section."
   ]
  },
  {
   "cell_type": "code",
   "execution_count": 34,
   "metadata": {},
   "outputs": [
    {
     "data": {
      "text/plain": [
       "np.float64(4.106366361823632)"
      ]
     },
     "execution_count": 34,
     "metadata": {},
     "output_type": "execute_result"
    }
   ],
   "source": [
    "if not trades:\n",
    "    sharpe_ratio = \"No trades executed, Sharpe Ratio cannot be calculated.\"\n",
    "else:\n",
    "    # Convert trade list to DataFrame\n",
    "    trades_df = pd.DataFrame(trades)\n",
    "    \n",
    "    # Calculate daily returns from trade profits\n",
    "    daily_return = trades_df['profit']\n",
    "\n",
    "    # Define risk-free rate (e.g., 3% annualized for government bonds)\n",
    "    risk_free_rate = 0.03\n",
    "\n",
    "    # Compute Sharpe Ratio\n",
    "    trading_days_per_year = 252\n",
    "    annual_std = np.sqrt(trading_days_per_year) * np.std(daily_return)\n",
    "    annual_return = trading_days_per_year * np.mean(daily_return) - risk_free_rate\n",
    "    sharpe_ratio = annual_return / annual_std if annual_std != 0 else 0\n",
    "\n",
    "sharpe_ratio\n"
   ]
  },
  {
   "cell_type": "code",
   "execution_count": null,
   "metadata": {},
   "outputs": [],
   "source": []
  }
 ],
 "metadata": {
  "kernelspec": {
   "display_name": "Python 3 (ipykernel)",
   "language": "python",
   "name": "python3"
  },
  "language_info": {
   "codemirror_mode": {
    "name": "ipython",
    "version": 3
   },
   "file_extension": ".py",
   "mimetype": "text/x-python",
   "name": "python",
   "nbconvert_exporter": "python",
   "pygments_lexer": "ipython3",
   "version": "3.12.6"
  }
 },
 "nbformat": 4,
 "nbformat_minor": 4
}
