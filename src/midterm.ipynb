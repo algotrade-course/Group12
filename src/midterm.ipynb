{
 "cells": [
  {
   "cell_type": "markdown",
   "metadata": {},
   "source": [
    "# Group 12 - Strategy Implementation and Backtesting"
   ]
  },
  {
   "cell_type": "markdown",
   "metadata": {},
   "source": [
    "## 0. Import packages"
   ]
  },
  {
   "cell_type": "markdown",
   "metadata": {},
   "source": [
    "If there are any missing packages, you can install them by typing in the code shell:\n",
    "```terminal\n",
    "!pip install <package_name>\n",
    "```\n",
    "or\n",
    "```terminal\n",
    "%pip install <package_name>\n",
    "```"
   ]
  },
  {
   "cell_type": "code",
   "execution_count": null,
   "metadata": {},
   "outputs": [
    {
     "name": "stdout",
     "output_type": "stream",
     "text": [
      "Collecting yfinance\n",
      "  Downloading yfinance-0.2.54-py2.py3-none-any.whl (108 kB)\n",
      "                                              0.0/108.7 kB ? eta -:--:--\n",
      "     ----------------------                  61.4/108.7 kB 1.7 MB/s eta 0:00:01\n",
      "     -------------------------------------- 108.7/108.7 kB 2.1 MB/s eta 0:00:00\n",
      "Requirement already satisfied: pandas>=1.3.0 in c:\\users\\my msi\\anaconda3\\lib\\site-packages (from yfinance) (1.5.3)\n",
      "Requirement already satisfied: numpy>=1.16.5 in c:\\users\\my msi\\anaconda3\\lib\\site-packages (from yfinance) (1.24.3)\n",
      "Collecting requests>=2.31 (from yfinance)\n",
      "  Downloading requests-2.32.3-py3-none-any.whl (64 kB)\n",
      "                                              0.0/64.9 kB ? eta -:--:--\n",
      "     ---------------------------------------- 64.9/64.9 kB ? eta 0:00:00\n",
      "Collecting multitasking>=0.0.7 (from yfinance)\n",
      "  Downloading multitasking-0.0.11-py3-none-any.whl (8.5 kB)\n",
      "Requirement already satisfied: platformdirs>=2.0.0 in c:\\users\\my msi\\anaconda3\\lib\\site-packages (from yfinance) (2.5.2)\n",
      "Requirement already satisfied: pytz>=2022.5 in c:\\users\\my msi\\anaconda3\\lib\\site-packages (from yfinance) (2022.7)\n",
      "Collecting frozendict>=2.3.4 (from yfinance)\n",
      "  Downloading frozendict-2.4.6-py311-none-any.whl (16 kB)\n",
      "Collecting peewee>=3.16.2 (from yfinance)\n",
      "  Downloading peewee-3.17.9.tar.gz (3.0 MB)\n",
      "                                              0.0/3.0 MB ? eta -:--:--\n",
      "     ---                                      0.3/3.0 MB 5.4 MB/s eta 0:00:01\n",
      "     --------                                 0.6/3.0 MB 8.0 MB/s eta 0:00:01\n",
      "     ------------------                       1.4/3.0 MB 10.1 MB/s eta 0:00:01\n",
      "     ---------------------------------------  3.0/3.0 MB 17.5 MB/s eta 0:00:01\n",
      "     ---------------------------------------- 3.0/3.0 MB 16.1 MB/s eta 0:00:00\n",
      "  Installing build dependencies: started\n",
      "  Installing build dependencies: finished with status 'done'\n",
      "  Getting requirements to build wheel: started\n",
      "  Getting requirements to build wheel: finished with status 'done'\n",
      "  Preparing metadata (pyproject.toml): started\n",
      "  Preparing metadata (pyproject.toml): finished with status 'done'\n",
      "Requirement already satisfied: beautifulsoup4>=4.11.1 in c:\\users\\my msi\\anaconda3\\lib\\site-packages (from yfinance) (4.12.2)\n",
      "Requirement already satisfied: soupsieve>1.2 in c:\\users\\my msi\\anaconda3\\lib\\site-packages (from beautifulsoup4>=4.11.1->yfinance) (2.4)\n",
      "Requirement already satisfied: python-dateutil>=2.8.1 in c:\\users\\my msi\\anaconda3\\lib\\site-packages (from pandas>=1.3.0->yfinance) (2.8.2)\n",
      "Requirement already satisfied: charset-normalizer<4,>=2 in c:\\users\\my msi\\anaconda3\\lib\\site-packages (from requests>=2.31->yfinance) (2.0.4)\n",
      "Requirement already satisfied: idna<4,>=2.5 in c:\\users\\my msi\\anaconda3\\lib\\site-packages (from requests>=2.31->yfinance) (3.4)\n",
      "Requirement already satisfied: urllib3<3,>=1.21.1 in c:\\users\\my msi\\anaconda3\\lib\\site-packages (from requests>=2.31->yfinance) (1.26.16)\n",
      "Requirement already satisfied: certifi>=2017.4.17 in c:\\users\\my msi\\anaconda3\\lib\\site-packages (from requests>=2.31->yfinance) (2024.2.2)\n",
      "Requirement already satisfied: six>=1.5 in c:\\users\\my msi\\anaconda3\\lib\\site-packages (from python-dateutil>=2.8.1->pandas>=1.3.0->yfinance) (1.16.0)\n",
      "Building wheels for collected packages: peewee\n",
      "  Building wheel for peewee (pyproject.toml): started\n",
      "  Building wheel for peewee (pyproject.toml): finished with status 'done'\n",
      "  Created wheel for peewee: filename=peewee-3.17.9-py3-none-any.whl size=139096 sha256=395e7acefc23cf05637b5c8a892e1e2beacb9874b46aceba68976435b7958060\n",
      "  Stored in directory: c:\\users\\my msi\\appdata\\local\\pip\\cache\\wheels\\f4\\14\\e4\\50c88c865833085aeb91e2bd40e3a683ff434806386b8ee7bc\n",
      "Successfully built peewee\n",
      "Installing collected packages: peewee, multitasking, requests, frozendict, yfinance\n",
      "  Attempting uninstall: requests\n",
      "    Found existing installation: requests 2.29.0\n",
      "    Uninstalling requests-2.29.0:\n",
      "      Successfully uninstalled requests-2.29.0\n",
      "Successfully installed frozendict-2.4.6 multitasking-0.0.11 peewee-3.17.9 requests-2.32.3 yfinance-0.2.54\n"
     ]
    },
    {
     "name": "stderr",
     "output_type": "stream",
     "text": [
      "ERROR: pip's dependency resolver does not currently take into account all the packages that are installed. This behaviour is the source of the following dependency conflicts.\n",
      "conda-repo-cli 1.0.41 requires requests_mock, which is not installed.\n",
      "transformers 2.1.1 requires sentencepiece, which is not installed.\n",
      "conda-repo-cli 1.0.41 requires clyent==1.2.1, but you have clyent 1.2.2 which is incompatible.\n",
      "conda-repo-cli 1.0.41 requires nbformat==5.4.0, but you have nbformat 5.7.0 which is incompatible.\n",
      "conda-repo-cli 1.0.41 requires requests==2.28.1, but you have requests 2.32.3 which is incompatible.\n"
     ]
    }
   ],
   "source": [
    "import pandas as pd\n",
    "import yfinance as yf\n",
    "import numpy as np\n",
    "import psycopg\n",
    "import json\n",
    "import pprint\n",
    "import mplfinance as mpf\n",
    "\n",
    "from typing import List\n",
    "from matplotlib import pyplot as plt\n",
    "from numpy.testing import assert_almost_equal, assert_equal"
   ]
  },
  {
   "cell_type": "markdown",
   "metadata": {},
   "source": [
    "## 1. Data Preparation\n",
    "### 1.1. Data Importing\n",
    "First, we load the data from `yfinance`:"
   ]
  },
  {
   "cell_type": "code",
   "execution_count": null,
   "metadata": {},
   "outputs": [],
   "source": [
    "# Load data\n",
    "with open('database.json', 'rb') as fb:\n",
    "    db_info = json.load(fb)\n",
    "conn = psycopg.connect(\n",
    "    host=db_info['host'],\n",
    "    port=db_info['port'],\n",
    "    dbname=db_info['database'],\n",
    "    user=db_info['user'],\n",
    "    password=db_info['password']\n",
    ")\n",
    "with psycopg.connect(\n",
    "    host=db_info['host'],\n",
    "    port=db_info['port'],\n",
    "    dbname=db_info['database'],\n",
    "    user=db_info['user'],\n",
    "    password=db_info['password']\n",
    ") as conn:\n",
    "    # Open a cursor to perform database operations\n",
    "    with conn.cursor() as in_sample_data:\n",
    "        \n",
    "        # Execute a query\n",
    "        in_sample_data.execute(\"\"\"\n",
    "            SELECT m.datetime, m.tickersymbol, m.price, v.quantity\n",
    "            FROM \"quote\".\"matched\" m\n",
    "            LEFT JOIN \"quote\".\"total\" v\n",
    "            ON m.tickersymbol = v.tickersymbol\n",
    "            and m.datetime =  v.datetime\n",
    "            where m.datetime between '2023-10-23' and '2023-11-23'\n",
    "            and m.tickersymbol = 'VN30F2311'\n",
    "        \"\"\")\n",
    "\n",
    "        # Use fetchall() to get all the data of the query.\n",
    "        # Note: fetchall() can be costly and inefficient.\n",
    "        # Other efficient ways have been discussed extensively on the Internet. Or you can ask ChatGPT ;)\n",
    "        in_sample_dataset = in_sample_data.fetchall()\n",
    "\n",
    "        # Print the total number of ticks of that day\n",
    "        print(f'Total number of tick: {len(in_sample_dataset)}')\n",
    "\n",
    "        # Pretty print the first five ticks\n",
    "\n",
    "    with conn.cursor() as out_sample_data:\n",
    "        \n",
    "        # Execute a query\n",
    "        out_sample_data.execute(\"\"\"\n",
    "            SELECT m.datetime, m.tickersymbol, m.price, v.quantity\n",
    "            FROM \"quote\".\"matched\" m\n",
    "            LEFT JOIN \"quote\".\"total\" v\n",
    "            ON m.tickersymbol = v.tickersymbol\n",
    "            and m.datetime =  v.datetime\n",
    "            where m.datetime between '2023-10-23' and '2023-12-3'\n",
    "            and m.tickersymbol = 'VN30F2311'\n",
    "        \"\"\")\n",
    "\n",
    "        # Use fetchall() to get all the data of the query.\n",
    "        # Note: fetchall() can be costly and inefficient.\n",
    "        # Other efficient ways have been discussed extensively on the Internet. Or you can ask ChatGPT ;)\n",
    "        out_sample_dataset = out_sample_data.fetchall()\n",
    "\n",
    "        # Print the total number of ticks of that day\n",
    "        print(f'Total number of tick: {len(out_sample_dataset)}')"
   ]
  },
  {
   "cell_type": "code",
   "execution_count": null,
   "metadata": {},
   "outputs": [],
   "source": [
    "# Chuyển dữ liệu sang DataFrame của in_sample_data\n",
    "in_sample_candle = pd.DataFrame(in_sample_dataset, columns=['datetime', 'tickersymbol', 'price', 'quantity'])\n",
    "in_sample_candle['price'] = pd.to_numeric(in_sample_candle['price'], errors='coerce')\n",
    "print(in_sample_candle['price'].dtype)\n",
    "# Chuyển đổi cột datetime về kiểu datetime\n",
    "in_sample_candle['datetime'] = pd.to_datetime(in_sample_candle['datetime'])\n",
    "in_sample_candle.set_index('datetime', inplace=True)\n",
    "\n",
    "# Resample dữ liệu theo khung 1 giờ (1h)\n",
    "in_sample_candle_ohlc = in_sample_candle['price'].resample('1h').ohlc()\n",
    "in_sample_candle_volume = in_sample_candle['quantity'].resample('1h').sum()\n",
    "\n",
    "# Gộp dữ liệu OHLC với volume\n",
    "in_sample_candle_ohlc['volume'] = in_sample_candle_volume\n",
    "\n",
    "# Vẽ biểu đồ nến\n",
    "mpf.plot(in_sample_candle_ohlc, type='candle', volume=True, style='charles',\n",
    "        title=\" In sample data VN30F2311 Candlestick Chart (1h)\", ylabel=\"Price\", ylabel_lower=\"Volume\")\n",
    "\n",
    "# Chuyển dữ liệu sang DataFrame của in_sample_data\n",
    "out_sample_candle = pd.DataFrame(out_sample_dataset, columns=['datetime', 'tickersymbol', 'price', 'quantity'])\n",
    "out_sample_candle['price'] = pd.to_numeric(out_sample_candle['price'], errors='coerce')\n",
    "print(out_sample_candle['price'].dtype)\n",
    "# Chuyển đổi cột datetime về kiểu datetime\n",
    "out_sample_candle['datetime'] = pd.to_datetime(out_sample_candle['datetime'])\n",
    "out_sample_candle.set_index('datetime', inplace=True)\n",
    "\n",
    "# Resample dữ liệu theo khung 1 giờ (1h)\n",
    "out_sample_candle_ohlc = out_sample_candle['price'].resample('1h').ohlc()\n",
    "out_sample_candle_volume = out_sample_candle['quantity'].resample('1h').sum()\n",
    "\n",
    "# Gộp dữ liệu OHLC với volume\n",
    "out_sample_candle_ohlc['volume'] = out_sample_candle_volume\n",
    "\n",
    "# Vẽ biểu đồ nến\n",
    "mpf.plot(out_sample_candle_ohlc, type='candle', volume=True, style='charles',\n",
    "        title=\" Out sample data VN30F2311 Candlestick Chart (1h)\", ylabel=\"Price\", ylabel_lower=\"Volume\")"
   ]
  },
  {
   "cell_type": "markdown",
   "metadata": {},
   "source": [
    "## 2. Trading Algorithm"
   ]
  },
  {
   "cell_type": "markdown",
   "metadata": {},
   "source": []
  },
  {
   "cell_type": "markdown",
   "metadata": {},
   "source": [
    "## 3. Backtesting"
   ]
  },
  {
   "cell_type": "markdown",
   "metadata": {},
   "source": []
  },
  {
   "cell_type": "markdown",
   "metadata": {},
   "source": [
    "## 4. Evaluation"
   ]
  },
  {
   "cell_type": "markdown",
   "metadata": {},
   "source": []
  }
 ],
 "metadata": {
  "kernelspec": {
   "display_name": "base",
   "language": "python",
   "name": "python3"
  },
  "language_info": {
   "codemirror_mode": {
    "name": "ipython",
    "version": 3
   },
   "file_extension": ".py",
   "mimetype": "text/x-python",
   "name": "python",
   "nbconvert_exporter": "python",
   "pygments_lexer": "ipython3",
   "version": "3.11.3"
  }
 },
 "nbformat": 4,
 "nbformat_minor": 2
}
